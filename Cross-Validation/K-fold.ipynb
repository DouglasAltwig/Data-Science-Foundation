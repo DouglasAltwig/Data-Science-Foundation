{
  "nbformat": 4,
  "nbformat_minor": 0,
  "metadata": {
    "colab": {
      "name": "K-fold.ipynb",
      "provenance": [],
      "collapsed_sections": [],
      "authorship_tag": "ABX9TyM3w+0T7HCxwbBp50hBnSm0",
      "include_colab_link": true
    },
    "kernelspec": {
      "name": "python3",
      "display_name": "Python 3"
    }
  },
  "cells": [
    {
      "cell_type": "markdown",
      "metadata": {
        "id": "view-in-github",
        "colab_type": "text"
      },
      "source": [
        "<a href=\"https://colab.research.google.com/github/DouglasAltwig/Data-Science-Foundation/blob/master/Cross-Validation/K-fold.ipynb\" target=\"_parent\"><img src=\"https://colab.research.google.com/assets/colab-badge.svg\" alt=\"Open In Colab\"/></a>"
      ]
    },
    {
      "cell_type": "code",
      "metadata": {
        "id": "mBYrSj8mFNoS",
        "colab_type": "code",
        "colab": {}
      },
      "source": [
        "# scikit-learn k-fold cross-validation\n",
        "from numpy import array\n",
        "from sklearn.model_selection import KFold"
      ],
      "execution_count": 6,
      "outputs": []
    },
    {
      "cell_type": "code",
      "metadata": {
        "id": "UI5fzU2IFUSm",
        "colab_type": "code",
        "colab": {
          "base_uri": "https://localhost:8080/",
          "height": 68
        },
        "outputId": "27562f0a-5ad4-4129-db1c-810521470262"
      },
      "source": [
        "# Data sample\n",
        "data = array([0.1, 0.2, 0.3, 0.4, 0.5, 0.6])\n",
        "\n",
        "# Define cross-validation folds\n",
        "kfold = KFold(n_splits=3, shuffle=True, random_state=1)\n",
        "\n",
        "# Enumerate splits\n",
        "for train, test in kfold.split(data):\n",
        "  print('train: %s, test %s' % (data[train], data[test]))"
      ],
      "execution_count": 11,
      "outputs": [
        {
          "output_type": "stream",
          "text": [
            "train: [0.1 0.4 0.5 0.6], test [0.2 0.3]\n",
            "train: [0.2 0.3 0.4 0.6], test [0.1 0.5]\n",
            "train: [0.1 0.2 0.3 0.5], test [0.4 0.6]\n"
          ],
          "name": "stdout"
        }
      ]
    },
    {
      "cell_type": "markdown",
      "metadata": {
        "id": "g8LmwwgOJeOM",
        "colab_type": "text"
      },
      "source": [
        "### Variations on Cross-Validation\n",
        "\n",
        "*   **Stratified**: each fold has the same proportion of observations with a given categorical value.\n",
        "*   **LOOCV** (leave-one-out cross-validation): *k* may be set to the total number of observations in the dataset such that each observation is given a chance to be held out of the dataset.\n",
        "*   **Repeated**: This is where the *k-fold* cross-validation procedure is repeated *n* times, where importantly, the data sample is shuffled prior to each repetition, which results in a different split of the sample.\n"
      ]
    },
    {
      "cell_type": "code",
      "metadata": {
        "id": "2v7mWvE1Hv-3",
        "colab_type": "code",
        "colab": {}
      },
      "source": [
        ""
      ],
      "execution_count": null,
      "outputs": []
    }
  ]
}