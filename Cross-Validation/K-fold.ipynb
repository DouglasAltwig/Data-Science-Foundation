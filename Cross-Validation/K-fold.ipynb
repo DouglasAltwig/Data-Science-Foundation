{
  "nbformat": 4,
  "nbformat_minor": 0,
  "metadata": {
    "colab": {
      "name": "K-fold.ipynb",
      "provenance": [],
      "collapsed_sections": [],
      "authorship_tag": "ABX9TyM5ZZ4FDyq49ET+ziJq70O8",
      "include_colab_link": true
    },
    "kernelspec": {
      "name": "python3",
      "display_name": "Python 3"
    }
  },
  "cells": [
    {
      "cell_type": "markdown",
      "metadata": {
        "id": "view-in-github",
        "colab_type": "text"
      },
      "source": [
        "<a href=\"https://colab.research.google.com/github/DouglasAltwig/Data-Science-Foundation/blob/master/Cross-Validation/K-fold.ipynb\" target=\"_parent\"><img src=\"https://colab.research.google.com/assets/colab-badge.svg\" alt=\"Open In Colab\"/></a>"
      ]
    },
    {
      "cell_type": "markdown",
      "metadata": {
        "id": "g8LmwwgOJeOM",
        "colab_type": "text"
      },
      "source": [
        "### K-Fold\n",
        "Cross-validation is a resampling procedure used to evaluate machine learning models on a\n",
        "limited data sample. The procedure has a single parameter called k that refers to the number\n",
        "of groups that a given data sample is to be split into. As such, the procedure is often called\n",
        "k-fold cross-validation.\n",
        "\n",
        "### Variations on Cross-Validation\n",
        "\n",
        "*   **Stratified**: each fold has the same proportion of observations with a given categorical value.\n",
        "*   **LOOCV** (leave-one-out cross-validation): *k* may be set to the total number of observations in the dataset such that each observation is given a chance to be held out of the dataset.\n",
        "*   **Repeated**: This is where the *k-fold* cross-validation procedure is repeated *n* times, where importantly, the data sample is shuffled prior to each repetition, which results in a different split of the sample.\n"
      ]
    },
    {
      "cell_type": "code",
      "metadata": {
        "id": "mBYrSj8mFNoS",
        "colab_type": "code",
        "colab": {}
      },
      "source": [
        "# scikit-learn k-fold cross-validation\n",
        "from numpy import array\n",
        "from sklearn.model_selection import KFold"
      ],
      "execution_count": 6,
      "outputs": []
    },
    {
      "cell_type": "code",
      "metadata": {
        "id": "UI5fzU2IFUSm",
        "colab_type": "code",
        "colab": {
          "base_uri": "https://localhost:8080/",
          "height": 68
        },
        "outputId": "27562f0a-5ad4-4129-db1c-810521470262"
      },
      "source": [
        "# Data sample\n",
        "data = array([0.1, 0.2, 0.3, 0.4, 0.5, 0.6])\n",
        "\n",
        "# Define cross-validation folds\n",
        "kfold = KFold(n_splits=3, shuffle=True, random_state=1)\n",
        "\n",
        "# Enumerate splits\n",
        "for train, test in kfold.split(data):\n",
        "  print('train: %s, test %s' % (data[train], data[test]))"
      ],
      "execution_count": 11,
      "outputs": [
        {
          "output_type": "stream",
          "text": [
            "train: [0.1 0.4 0.5 0.6], test [0.2 0.3]\n",
            "train: [0.2 0.3 0.4 0.6], test [0.1 0.5]\n",
            "train: [0.1 0.2 0.3 0.5], test [0.4 0.6]\n"
          ],
          "name": "stdout"
        }
      ]
    },
    {
      "cell_type": "markdown",
      "metadata": {
        "id": "whMxfo15cql3",
        "colab_type": "text"
      },
      "source": [
        "### Scikit-learn Example (Traditional Train-Test-Split)"
      ]
    },
    {
      "cell_type": "code",
      "metadata": {
        "id": "2v7mWvE1Hv-3",
        "colab_type": "code",
        "colab": {}
      },
      "source": [
        "import numpy as np\n",
        "from sklearn.model_selection import train_test_split\n",
        "from sklearn import datasets\n",
        "from sklearn import svm"
      ],
      "execution_count": 12,
      "outputs": []
    },
    {
      "cell_type": "code",
      "metadata": {
        "id": "3xoX9l71cepk",
        "colab_type": "code",
        "colab": {
          "base_uri": "https://localhost:8080/",
          "height": 68
        },
        "outputId": "44350c7b-4771-4ac9-e96b-df3d028585ce"
      },
      "source": [
        "X, y = datasets.load_iris(return_X_y=True)\n",
        "X_train, X_test, y_train, y_test = train_test_split(X, y, test_size=0.4, random_state=0)\n",
        "\n",
        "print(X.shape, y.shape)\n",
        "print(X_train.shape, y_train.shape)\n",
        "print(X_test.shape, y_test.shape)"
      ],
      "execution_count": 20,
      "outputs": [
        {
          "output_type": "stream",
          "text": [
            "(150, 4) (150,)\n",
            "(90, 4) (90,)\n",
            "(60, 4) (60,)\n"
          ],
          "name": "stdout"
        }
      ]
    },
    {
      "cell_type": "code",
      "metadata": {
        "id": "wBtV9Yf5dN17",
        "colab_type": "code",
        "colab": {
          "base_uri": "https://localhost:8080/",
          "height": 34
        },
        "outputId": "904a5ea8-c640-49a4-db60-dded16d08073"
      },
      "source": [
        "clf = svm.SVC(kernel='linear', C=1).fit(X_train, y_train)\n",
        "clf.score(X_test, y_test)"
      ],
      "execution_count": 21,
      "outputs": [
        {
          "output_type": "execute_result",
          "data": {
            "text/plain": [
              "0.9666666666666667"
            ]
          },
          "metadata": {
            "tags": []
          },
          "execution_count": 21
        }
      ]
    },
    {
      "cell_type": "markdown",
      "metadata": {
        "id": "fDE_6idigfT5",
        "colab_type": "text"
      },
      "source": [
        "### Scikit-learn Example (Using K-Fold Cross-Validation)"
      ]
    },
    {
      "cell_type": "code",
      "metadata": {
        "id": "uHHgG1QddfuT",
        "colab_type": "code",
        "colab": {
          "base_uri": "https://localhost:8080/",
          "height": 34
        },
        "outputId": "1f70e434-dc99-47ec-9e87-047348fa5974"
      },
      "source": [
        "from sklearn.model_selection import cross_val_score\n",
        "clf = svm.SVC(kernel='linear', C=1)\n",
        "scores = cross_val_score(clf, X, y, cv=5)\n",
        "scores"
      ],
      "execution_count": 18,
      "outputs": [
        {
          "output_type": "execute_result",
          "data": {
            "text/plain": [
              "array([0.96666667, 1.        , 0.96666667, 0.96666667, 1.        ])"
            ]
          },
          "metadata": {
            "tags": []
          },
          "execution_count": 18
        }
      ]
    },
    {
      "cell_type": "code",
      "metadata": {
        "id": "MIIPZ-ntfB5w",
        "colab_type": "code",
        "colab": {
          "base_uri": "https://localhost:8080/",
          "height": 34
        },
        "outputId": "165b2181-3ad0-4dc6-ca60-73d30790b656"
      },
      "source": [
        "print('Accuracy: %0.2f (+/- %0.2f)' % (scores.mean(), scores.std() * 2))"
      ],
      "execution_count": 19,
      "outputs": [
        {
          "output_type": "stream",
          "text": [
            "Accuracy: 0.98 (+/- 0.03)\n"
          ],
          "name": "stdout"
        }
      ]
    }
  ]
}